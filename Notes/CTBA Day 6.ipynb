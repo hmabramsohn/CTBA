{
 "cells": [
  {
   "cell_type": "markdown",
   "id": "eefc42a2",
   "metadata": {},
   "source": [
    "**Human Centered Data Story Telling**\n",
    "- Data visualization is a combination of art and science\n",
    "- Visually appealing but also accurate; avoiding misrepresentation of the data, such as making proportions appear as though they are different from reality, or poorly constructed aesthetics which obscure the message\n",
    "- Process; identify trends, patterns, and outcomes in data, then summarize the patterns in user-friendly visualization\n",
    "    - Using data to predict, explain, and understand what is happening (behavior)\n",
    "    - Theoretical and contextual understandings of patterns; visualized with layers, such as time, geography, category, implying causality\n",
    "- Aesthetics are based on elements of the chart; line-width, type, shape/size/color of points, etc. \n",
    "    - Color uses (exclusive):\n",
    "        - Distinguish separate categories, such as in a bar chart\n",
    "        - Represent values on a scale \n",
    "        - Highlight highest and lowest values\n",
    "    - Color must be subtle; too much color can obscure the data\n",
    "        - Too colorful (too much information), hard to parse\n",
    "        - Distracting color choices\n",
    "        - Misleading - bigger differences between colors than between the values\n",
    "        - Color-blindness; avoid red-green and blue-yellow\n",
    "        - Nonmonochromatic; More than one color scale confuses the viewer \n",
    "            - Good example; sequential viridis\n",
    "- The goal is to make the data understandable to the viewer with the minumum amount of work on their part\n",
    "\n",
    "*Reasoning Errors*\n",
    "- Charts which contain errors in logic that can become the foundation of a misleading argument\n",
    "    - Misreading a chart; Visual distortions and incorrect scaling\n",
    "    - Cherry-picking data\n",
    "    - Data quality problems\n",
    "    - Misrepresentations of scientific conclusions\n",
    "- Scientific literacy; The ability to understand and *evaluate* scientific information and make informed judgements\n",
    "    - Misrepresentation can mislead non-literate audiences\n",
    "- Ignoring statistical nuances; \n",
    "    - Ignoring differences between subgroups and including bias from a subgroup in analysis of full data\n",
    "    - Claiming causation from an observational study\n",
    "    - Ignoring/missing confounding variables, potentially leading to false associations between unrelated variables\n",
    "\n",
    "*Bias*\n",
    "- Bias can cause people to distort or misinterpret data, misrepresenting causal relationships in strength or even content\n",
    "    - Sample bias; Data included in survey is distorted somehow from the actual population\n",
    "    - Confirmation bias; Focusing on data that supports the hypothesis and ignoring negative data\n",
    "    - Publication bias; Focusing on more interesting results to have a higher chance of publishing research\n",
    "\n",
    "*Storytelling With Data*\n",
    "- Shaping data into a story based on the audience\n",
    "- 3-minute story; Boil message down to brief delivery in a clear package"
   ]
  }
 ],
 "metadata": {
  "language_info": {
   "name": "python"
  }
 },
 "nbformat": 4,
 "nbformat_minor": 5
}
