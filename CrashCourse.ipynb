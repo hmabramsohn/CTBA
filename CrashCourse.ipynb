{
 "cells": [
  {
   "cell_type": "code",
   "execution_count": 5,
   "id": "72901a4b",
   "metadata": {},
   "outputs": [
    {
     "name": "stdout",
     "output_type": "stream",
     "text": [
      "7\n",
      "data\n",
      "10\n",
      "15\n"
     ]
    }
   ],
   "source": [
    "x = 7\n",
    "y = \"data\"\n",
    "\n",
    "print(x)\n",
    "print(y)\n",
    "\n",
    "my_variable = 10\n",
    "print(my_variable)\n",
    "\n",
    "my_variable += 5\n",
    "print(my_variable)"
   ]
  },
  {
   "cell_type": "markdown",
   "id": "b7ee18f8",
   "metadata": {},
   "source": [
    "Working with strings."
   ]
  },
  {
   "cell_type": "code",
   "execution_count": 8,
   "id": "ad1c8f3a",
   "metadata": {},
   "outputs": [
    {
     "name": "stdout",
     "output_type": "stream",
     "text": [
      "What are you studying? \n",
      "Analytics\n"
     ]
    }
   ],
   "source": [
    "question = \"What are you studying?\"\n",
    "answer = \"Analytics\" \n",
    "print(f\"{question} \\n{answer}\")"
   ]
  },
  {
   "cell_type": "markdown",
   "id": "256ce34e",
   "metadata": {},
   "source": [
    "Indexing/Subsetting"
   ]
  },
  {
   "cell_type": "code",
   "execution_count": 10,
   "id": "218a9c26",
   "metadata": {},
   "outputs": [
    {
     "name": "stdout",
     "output_type": "stream",
     "text": [
      "A\n",
      "s\n"
     ]
    }
   ],
   "source": [
    "a = answer[0]\n",
    "print(a)\n",
    "s = answer[-1]\n",
    "print(s)"
   ]
  },
  {
   "cell_type": "markdown",
   "id": "7f689193",
   "metadata": {},
   "source": [
    "Inclusive/Exclusive\n",
    "\n",
    "( ]\n",
    "\n",
    "Notation for the above; the start index is included, the stop index is not\n",
    "\n",
    "*Methods*\n",
    "- Functions associated with a specific object or class.\n",
    "Uppercase; text.upper()\n",
    "Lowercase; text.lower()\n",
    "Find position of a substring: text.find('x') (-1 if not found)"
   ]
  },
  {
   "cell_type": "code",
   "execution_count": null,
   "id": "11f0ae2f",
   "metadata": {},
   "outputs": [
    {
     "name": "stdout",
     "output_type": "stream",
     "text": [
      "<built-in method items of dict object at 0x000001BE0B755B80>\n"
     ]
    }
   ],
   "source": [
    "d1 = {'name': 'Harry', \n",
    "      'age': 24, \n",
    "      'city': 'Williamsburg'}\n",
    "d1['email'] = 'hm@q'\n",
    "print(d1)"
   ]
  },
  {
   "cell_type": "markdown",
   "id": "ffe9ff4d",
   "metadata": {},
   "source": [
    "Dictionaries are useful for solving distance problems; distances between multiple points can be dynamically updated\n",
    "- Readable; Keys can be locations\n",
    "- Fast; Easy to lookup\n",
    "- Flexible data; Dynamically update"
   ]
  },
  {
   "cell_type": "code",
   "execution_count": 21,
   "id": "7dd67b34",
   "metadata": {},
   "outputs": [
    {
     "name": "stdout",
     "output_type": "stream",
     "text": [
      "{'Alice': {'GPA': 3.6, 'Major': 'IR', 'Courseload': 5}, 'Bob': {'GPA': 3.8, 'Major': 'Politics', 'Courseload': 6}, 'Charlie': {'GPA': 3.2, 'Major': 'Business', 'Courseload': 2}, 'Harry': {'GPA': 3.0, 'Major': 'Science', 'Courseload': 4}}\n"
     ]
    }
   ],
   "source": [
    "GPAs = {\n",
    "    \"Alice\": {'GPA':3.6,'Major':'IR','Courseload':5},\n",
    "    \"Bob\": {'GPA':3.8,'Major':'Politics','Courseload':6},\n",
    "    \"Charlie\": {'GPA':3.2,'Major':'Business','Courseload':2}\n",
    "}\n",
    "GPAs[\"Harry\"] = {'GPA':3.0,'Major':'Science','Courseload':4}\n",
    "print(GPAs)"
   ]
  },
  {
   "cell_type": "markdown",
   "id": "e8a8429d",
   "metadata": {},
   "source": [
    "**Docstrings**\n",
    "Enclosed in triple quotes; describes function\n",
    "\n",
    "def function(parameter=default_value):\n",
    "    \"\"\"\n",
    "    Docstring text\n",
    "    \"\"\"\n",
    "    Function"
   ]
  }
 ],
 "metadata": {
  "kernelspec": {
   "display_name": "CTBA",
   "language": "python",
   "name": "python3"
  },
  "language_info": {
   "codemirror_mode": {
    "name": "ipython",
    "version": 3
   },
   "file_extension": ".py",
   "mimetype": "text/x-python",
   "name": "python",
   "nbconvert_exporter": "python",
   "pygments_lexer": "ipython3",
   "version": "3.13.5"
  }
 },
 "nbformat": 4,
 "nbformat_minor": 5
}
